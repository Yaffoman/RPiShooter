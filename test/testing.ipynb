{
 "cells": [
  {
   "cell_type": "code",
   "execution_count": 1,
   "metadata": {},
   "outputs": [],
   "source": [
    "import numpy as np\n"
   ]
  },
  {
   "cell_type": "code",
   "execution_count": 2,
   "metadata": {},
   "outputs": [],
   "source": [
    "#idk how to do the actual moter control\n",
    "\n",
    "def up():\n",
    "    return\n",
    "\n",
    "def down():\n",
    "    return\n",
    "\n",
    "def left():\n",
    "    return\n",
    "\n",
    "def right():\n",
    "    return\n"
   ]
  },
  {
   "cell_type": "code",
   "execution_count": 112,
   "metadata": {},
   "outputs": [],
   "source": [
    "def to_polar(coords, img_shape=(100,100)):\n",
    "    \"\"\"\n",
    "    converts catrisan to polar cootdinats\n",
    "    assumes coords is a tuple (r,c)\n",
    "    \"\"\"\n",
    "    y,x = coords \n",
    "    mid_y, mid_x = .5*img_shape[0], .5*img_shape[1]\n",
    "    r = np.sqrt((x - mid_x)**2 + (y - mid_y)**2)\n",
    "    t = np.arctan2([y - mid_y],[x - mid_x]) * (180/np.pi)\n",
    "    return r, t[0]"
   ]
  },
  {
   "cell_type": "code",
   "execution_count": 106,
   "metadata": {},
   "outputs": [
    {
     "data": {
      "text/plain": [
       "(70.71067811865476, -135.0)"
      ]
     },
     "execution_count": 106,
     "metadata": {},
     "output_type": "execute_result"
    }
   ],
   "source": [
    "def move(coords, img_shape, move_mult=5):\n",
    "    max_r = np.sqrt((img_shape[0]/2)**2 + (img_shape[1]/2)**2)\n",
    "    r, t = to_polar(coords, img_shape)\n",
    "    reps = int(r/max_r) * move_mult\n",
    "    for _ in range(reps):\n",
    "        if t > -15 and t <= 15:\n",
    "            right()\n",
    "        if t > 15 and t <= 75:\n",
    "            right()\n",
    "            up()\n",
    "        if t > 75 and t < = 105:\n",
    "            up()\n",
    "        if t > 105 and t <= 165:\n",
    "            left()\n",
    "            up()\n",
    "        if t > 165 or t <= -165:\n",
    "            left()\n",
    "        if t > -165 and t <= -105:\n",
    "            left()\n",
    "            down()\n",
    "        if t > -105 and t <=  -75:\n",
    "            down()\n",
    "        if t > -75 and t < -15:\n",
    "            right()\n",
    "            down()\n",
    "    return "
   ]
  },
  {
   "cell_type": "code",
   "execution_count": 110,
   "metadata": {},
   "outputs": [
    {
     "ename": "SyntaxError",
     "evalue": "no binding for nonlocal 'max_r' found (<ipython-input-110-5b00e2885cc9>, line 7)",
     "output_type": "error",
     "traceback": [
      "\u001b[0;36m  File \u001b[0;32m\"<ipython-input-110-5b00e2885cc9>\"\u001b[0;36m, line \u001b[0;32m7\u001b[0m\n\u001b[0;31m    nonlocal max_r\u001b[0m\n\u001b[0m    ^\u001b[0m\n\u001b[0;31mSyntaxError\u001b[0m\u001b[0;31m:\u001b[0m no binding for nonlocal 'max_r' found\n"
     ]
    }
   ],
   "source": [
    "def move(coords, img_shape, loop_multiplier = 5):\n",
    "\n",
    "    \n",
    "    return None"
   ]
  },
  {
   "cell_type": "code",
   "execution_count": null,
   "metadata": {},
   "outputs": [],
   "source": []
  }
 ],
 "metadata": {
  "kernelspec": {
   "display_name": "Python 3",
   "language": "python",
   "name": "python3"
  },
  "language_info": {
   "codemirror_mode": {
    "name": "ipython",
    "version": 3
   },
   "file_extension": ".py",
   "mimetype": "text/x-python",
   "name": "python",
   "nbconvert_exporter": "python",
   "pygments_lexer": "ipython3",
   "version": "3.7.4"
  },
  "latex_envs": {
   "LaTeX_envs_menu_present": true,
   "autoclose": false,
   "autocomplete": true,
   "bibliofile": "biblio.bib",
   "cite_by": "apalike",
   "current_citInitial": 1,
   "eqLabelWithNumbers": true,
   "eqNumInitial": 1,
   "hotkeys": {
    "equation": "Ctrl-E",
    "itemize": "Ctrl-I"
   },
   "labels_anchors": false,
   "latex_user_defs": false,
   "report_style_numbering": false,
   "user_envs_cfg": false
  }
 },
 "nbformat": 4,
 "nbformat_minor": 2
}
